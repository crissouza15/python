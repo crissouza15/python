{
  "nbformat": 4,
  "nbformat_minor": 0,
  "metadata": {
    "colab": {
      "provenance": [],
      "authorship_tag": "ABX9TyNSd4DVe53V6cH2sUXHOJnd",
      "include_colab_link": true
    },
    "kernelspec": {
      "name": "python3",
      "display_name": "Python 3"
    },
    "language_info": {
      "name": "python"
    }
  },
  "cells": [
    {
      "cell_type": "markdown",
      "metadata": {
        "id": "view-in-github",
        "colab_type": "text"
      },
      "source": [
        "<a href=\"https://colab.research.google.com/github/crissouza15/python/blob/main/aulapython.ipynb\" target=\"_parent\"><img src=\"https://colab.research.google.com/assets/colab-badge.svg\" alt=\"Open In Colab\"/></a>"
      ]
    },
    {
      "cell_type": "code",
      "source": [],
      "metadata": {
        "id": "Ye2Oqas2kHtv"
      },
      "execution_count": null,
      "outputs": []
    },
    {
      "cell_type": "markdown",
      "source": [
        "aula 2"
      ],
      "metadata": {
        "id": "OENweFwSj59_"
      }
    },
    {
      "cell_type": "code",
      "source": [
        "livro_ficcao = 8\n",
        "livro_n_ficcao = 10\n",
        "livro_infantil = 6\n",
        "pontos_rodrigo = livro_ficcao + livro_n_ficcao + livro_infantil\n",
        "print(f\"Os pontos totais do Rodrigo são {pontos_rodrigo}\")\n",
        "pontos_ana =  livro_ficcao * +  2 + livro_infantil * 5\n",
        "print(f\"os pontos totais de Ana são {pontos_ana}\")\n",
        "pontos_carlos = 1 * livro_ficcao + 3 * livro_n_ficcao + 3 * livro_infantil\n",
        "print(f\"os pontos totais de Carlos são {pontos_carlos}\")\n",
        "pontos_totais = pontos_rodrigo + pontos_ana + pontos_carlos\n",
        "print(f\"os pontos totais de Ana e Rodrigo são {pontos_totais}\")"
      ],
      "metadata": {
        "id": "g7WcXdqUik4q",
        "colab": {
          "base_uri": "https://localhost:8080/"
        },
        "outputId": "f5c608f8-97b6-4d62-b9c7-69133d2837d8"
      },
      "execution_count": null,
      "outputs": [
        {
          "output_type": "stream",
          "name": "stdout",
          "text": [
            "Os pontos totais do Rodrigo são 24\n",
            "os pontos totais de Ana são 46\n",
            "os pontos totais de Carlos são 56\n",
            "os pontos totais de Ana e Rodrigo são 126\n"
          ]
        }
      ]
    },
    {
      "cell_type": "code",
      "source": [
        "total_de_figurinhas = int(input(\"Digite o total de figurinhas: \"))\n",
        "numero_de_amigos = int(input(\"Digite o número de amigos: \"))\n",
        "figurinhas_amigo = total_de_figurinhas // (numero_de_amigos + 2)\n",
        "figurinhas_joao = 2 * figurinhas_amigos\n",
        "\n",
        "  print(f\"joao recebeu {figurinhas_joao} )"
      ],
      "metadata": {
        "id": "uuOkspokspYB",
        "colab": {
          "base_uri": "https://localhost:8080/",
          "height": 106
        },
        "outputId": "153d6238-928e-4855-ed05-39baf644eb6f"
      },
      "execution_count": 5,
      "outputs": [
        {
          "output_type": "error",
          "ename": "IndentationError",
          "evalue": "unexpected indent (ipython-input-4005381351.py, line 6)",
          "traceback": [
            "\u001b[0;36m  File \u001b[0;32m\"/tmp/ipython-input-4005381351.py\"\u001b[0;36m, line \u001b[0;32m6\u001b[0m\n\u001b[0;31m    print(f\"joao recebeu {figurinhas_joao} )\u001b[0m\n\u001b[0m    ^\u001b[0m\n\u001b[0;31mIndentationError\u001b[0m\u001b[0;31m:\u001b[0m unexpected indent\n"
          ]
        }
      ]
    },
    {
      "cell_type": "code",
      "source": [],
      "metadata": {
        "id": "XYyHqK8ytFSo"
      },
      "execution_count": null,
      "outputs": []
    },
    {
      "cell_type": "markdown",
      "source": [
        "aula 3"
      ],
      "metadata": {
        "id": "CKykO_ScoA3L"
      }
    },
    {
      "cell_type": "code",
      "source": [
        "numero_de_alunos = int(input(\"Digite a quantidade de alunos: \"))\n",
        "numero_de_monitores = int(input(\"Digite a quantidade de monitores: \"))\n",
        "if numero_de_alunos + numero_de_monitores <= 50:\n",
        "  resposta_positiva = \"pode ir\"\n",
        "  esposta_negativa = \"não pode ir\"\n",
        "if numero_de_alunos + numero_de_monitores <= 50:\n",
        "  print(resposta_positiva)\n",
        "else:\n",
        "  print(resposta_negativa)"
      ],
      "metadata": {
        "colab": {
          "base_uri": "https://localhost:8080/"
        },
        "id": "HY3osLT9pewk",
        "outputId": "ba573457-ef27-42b9-9036-1684f5b9c29c"
      },
      "execution_count": null,
      "outputs": [
        {
          "output_type": "stream",
          "name": "stdout",
          "text": [
            "Digite a quantidade de alunos: 30\n",
            "Digite a quantidade de monitores: 5\n",
            "pode ir\n"
          ]
        }
      ]
    },
    {
      "cell_type": "code",
      "source": [
        "quantidade_professores = 8\n",
        "numero_de_alunos = int(input(\"Digite a quantidade de alunos: \"))\n",
        "numero_de_monitores = int(input(\"Digite a quantidade de monitores: \"))\n",
        "if numero_de_alunos + numero_de_monitores + quantidade_professores <= 30:\n",
        "  resposta_positiva = \"pode ir\"\n",
        "if numero_de_alunos + numero_de_monitores <= 50:\n",
        "  print(resposta_positiva)\n",
        "else:\n",
        "  print(resposta_negativa)"
      ],
      "metadata": {
        "colab": {
          "base_uri": "https://localhost:8080/"
        },
        "id": "NZ6kt8_lrk4y",
        "outputId": "3d9026db-1547-4211-852a-bc75401a160f"
      },
      "execution_count": null,
      "outputs": [
        {
          "output_type": "stream",
          "name": "stdout",
          "text": [
            "Digite a quantidade de alunos: 30\n",
            "Digite a quantidade de monitores: 5\n",
            "pode ir\n"
          ]
        }
      ]
    },
    {
      "cell_type": "markdown",
      "source": [
        "aula 4"
      ],
      "metadata": {
        "id": "En0-q8RxtK2m"
      }
    },
    {
      "cell_type": "code",
      "source": [
        "P = int(input(\"Digite a posição da porta P (0 ou 1): \"))\n",
        "R = int(input(\"Digite a posição da porta R (0 ou 1): \"))\n",
        "if P == 0:\n",
        "    print(\"C\")\n",
        "elif R == 1:\n",
        "    print(\"A\")\n",
        "else:\n",
        "    print(\"B\")"
      ],
      "metadata": {
        "colab": {
          "base_uri": "https://localhost:8080/"
        },
        "id": "P84CoZUVtNDn",
        "outputId": "95569750-61e7-4d1b-d6ba-47c10f5541ba"
      },
      "execution_count": 1,
      "outputs": [
        {
          "output_type": "stream",
          "name": "stdout",
          "text": [
            "Digite a posição da porta P (0 ou 1): 1\n",
            "Digite a posição da porta R (0 ou 1): 1\n",
            "A\n"
          ]
        }
      ]
    },
    {
      "cell_type": "code",
      "source": [
        "P = int(input(\"Digite a posição da porta P (0 ou 1): \"))\n",
        "R = int(input(\"Digite a posição da porta R (0 ou 1): \"))\n",
        "Q = int(input(\"Digite a posição da porta Q (0 ou 1): \"))\n",
        "if P == 0:\n",
        "    print(\"C\")\n",
        "elif R == 1:\n",
        "    print(\"A\")\n",
        "else:\n",
        "    print(\"B\")\n",
        "if Q == 1:\n",
        "    print(\"D\")"
      ],
      "metadata": {
        "colab": {
          "base_uri": "https://localhost:8080/"
        },
        "id": "iDgCkNuOvoOR",
        "outputId": "5367ceec-5ef5-4fff-fe19-2f88c239395c"
      },
      "execution_count": 9,
      "outputs": [
        {
          "output_type": "stream",
          "name": "stdout",
          "text": [
            "Digite a posição da porta P (0 ou 1): 0\n",
            "Digite a posição da porta R (0 ou 1): 1\n",
            "Digite a posição da porta Q (0 ou 1): 1\n",
            "C\n",
            "D\n"
          ]
        }
      ]
    },
    {
      "cell_type": "code",
      "source": [],
      "metadata": {
        "id": "OLaZiEJHzbnD"
      },
      "execution_count": null,
      "outputs": []
    },
    {
      "cell_type": "markdown",
      "source": [
        "aula 6"
      ],
      "metadata": {
        "id": "gSMZDY8yzsvn"
      }
    },
    {
      "cell_type": "code",
      "source": [
        "def calcula_idade_maior(idade_monica, idade_filho1, idade_filho2):\n",
        "  idade_filho3 = idade_monica - idade_filho1 - idade_filho2\n",
        "  idade_maxima = max(idade_filho1, idade_filho2, idade_filho3)\n",
        "  return idade_filho3, idade_maxima"
      ],
      "metadata": {
        "id": "E2AUpyvYzu05"
      },
      "execution_count": 12,
      "outputs": []
    }
  ]
}